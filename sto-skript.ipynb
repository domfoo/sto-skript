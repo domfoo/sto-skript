{
 "cells": [
  {
   "cell_type": "markdown",
   "id": "cbcdc85d",
   "metadata": {},
   "source": [
    "# Stochastik-Skript"
   ]
  },
  {
   "cell_type": "markdown",
   "id": "58551aa2",
   "metadata": {},
   "source": [
    "## beschreibende Statistik"
   ]
  },
  {
   "cell_type": "markdown",
   "id": "4ea6d644",
   "metadata": {},
   "source": [
    "einige einfache Statistische Werte"
   ]
  },
  {
   "cell_type": "code",
   "execution_count": 51,
   "id": "ee17b2b7",
   "metadata": {},
   "outputs": [
    {
     "name": "stdout",
     "output_type": "stream",
     "text": [
      "\n",
      "WERT \t\t\tERGEBNIS\n",
      "________________________________________________________________________________________________________\n",
      "Max \t\t\t7\n",
      "Min \t\t\t1\n",
      "Modalwert \t\t[3] ([4]-mal)\t\t// auf mehrere Modalwerte aufpassen\n",
      "Arithmetische Mittel \t3.0\n",
      "Median \t\t\t3.0\n",
      "\n",
      "25% Quartil \t\t2.0\n",
      "50% Quartil \t\t3.0\n",
      "75% Quartil \t\t4.0\n",
      "90% Quantil \t\t4.0\n",
      "\n",
      "Varianz \t\t2.8\n",
      "Standardabweichung  \t1.6733200530681511\n",
      "Interquartilsabstand \t2\n",
      "Spannweite \t\t6\n"
     ]
    }
   ],
   "source": [
    "values = [1, 1, 2, 2, 3, 3, 3, 3, 4, 4, 7]\n",
    "\n",
    "custom_quantil = 0.9\n",
    "\n",
    "\n",
    "show_basics(values, custom_quantil)\n"
   ]
  },
  {
   "cell_type": "markdown",
   "id": "e1ff5074",
   "metadata": {},
   "source": [
    "# Hilfsprogramme"
   ]
  },
  {
   "cell_type": "code",
   "execution_count": 48,
   "id": "e5a7bd80",
   "metadata": {},
   "outputs": [],
   "source": [
    "from xml.sax.handler import property_interning_dict\n",
    "import numpy as np\n",
    "import pandas as pd\n",
    "from scipy import stats, special\n",
    "from matplotlib import pyplot as plt\n",
    "from scipy.stats import geom\n",
    "from scipy.stats import bernoulli\n",
    "from scipy.stats import binom\n",
    "from scipy.stats import poisson\n",
    "from scipy.stats import uniform, expon, norm\n",
    "import math"
   ]
  },
  {
   "cell_type": "code",
   "execution_count": 49,
   "id": "707b4f3a",
   "metadata": {},
   "outputs": [],
   "source": [
    "def show_basics(values, custom_quantil):\n",
    "    \"\"\"\n",
    "        Prints basic statistical values\n",
    "        :param values: List with numbers\n",
    "        :returns: None\n",
    "    \"\"\"\n",
    "    values.sort()\n",
    "    \n",
    "    print(\"\")\n",
    "    print(f\"WERT \\t\\t\\tERGEBNIS\")\n",
    "    print(\"________________________________________________________________________________________________________\")\n",
    "    print(f\"Max \\t\\t\\t{max(values)}\")\n",
    "    print(f\"Min \\t\\t\\t{min(values)}\")\n",
    "    modalwert = stats.mode(values)\n",
    "    print(f\"Modalwert \\t\\t{modalwert.mode} ({modalwert.count}-mal)\\t\\t// auf mehrere Modalwerte aufpassen\")\n",
    "    print(f\"Arithmetische Mittel \\t{np.mean(values)}\")\n",
    "    print(f\"Median \\t\\t\\t{np.median(values)}\\n\")\n",
    "    x25 = np.quantile(values, 0.25, method=\"averaged_inverted_cdf\")\n",
    "    x50 = np.quantile(values, 0.5, method=\"averaged_inverted_cdf\")\n",
    "    x75 = np.quantile(values, 0.75, method=\"averaged_inverted_cdf\")\n",
    "    xcustom = np.quantile(values, custom_quantil, method=\"averaged_inverted_cdf\")\n",
    "    print(f\"25% Quartil \\t\\t{x25}\")\n",
    "    print(f\"50% Quartil \\t\\t{x50}\")\n",
    "    print(f\"75% Quartil \\t\\t{x75}\")\n",
    "    print(f\"{int(custom_quantil*100)}% Quantil \\t\\t{xcustom}\\n\")\n",
    "    print(f\"Varianz \\t\\t{np.var(values, ddof=1)}\")\n",
    "    print(f\"Standardabweichung  \\t{np.std(values, ddof = 1)}\")\n",
    "    print(f\"Interquartilsabstand \\t{stats.iqr(values, interpolation='nearest')}\")\n",
    "    print(f\"Spannweite \\t\\t{max(values) - min(values)}\")\n"
   ]
  }
 ],
 "metadata": {
  "kernelspec": {
   "display_name": "Python 3 (ipykernel)",
   "language": "python",
   "name": "python3"
  },
  "language_info": {
   "codemirror_mode": {
    "name": "ipython",
    "version": 3
   },
   "file_extension": ".py",
   "mimetype": "text/x-python",
   "name": "python",
   "nbconvert_exporter": "python",
   "pygments_lexer": "ipython3",
   "version": "3.10.5"
  }
 },
 "nbformat": 4,
 "nbformat_minor": 5
}
