{
 "cells": [
  {
   "cell_type": "markdown",
   "id": "cbcdc85d",
   "metadata": {},
   "source": [
    "# Stochastik-Skript"
   ]
  },
  {
   "cell_type": "markdown",
   "id": "58551aa2",
   "metadata": {},
   "source": [
    "## beschreibende Statistik"
   ]
  },
  {
   "cell_type": "markdown",
   "id": "4ea6d644",
   "metadata": {},
   "source": [
    "einige einfache Statistische Werte"
   ]
  },
  {
   "cell_type": "code",
   "execution_count": 58,
   "id": "ee17b2b7",
   "metadata": {},
   "outputs": [
    {
     "name": "stdout",
     "output_type": "stream",
     "text": [
      "\n",
      "WERT \t\t\tERGEBNIS\n",
      "________________________________________________________________________________________________________\n",
      "Max \t\t\t10\n",
      "Min \t\t\t0\n",
      "Modalwert \t\t[3] ([2]-mal)\t\t// auf mehrere Modalwerte aufpassen\n",
      "Arithmetische Mittel \t4.285714285714286\n",
      "Median \t\t\t3.0\n",
      "\n",
      "25% Quartil \t\t2.0\n",
      "50% Quartil \t\t3.0\n",
      "75% Quartil \t\t7.0\n",
      "95% Quantil \t\t10.0\n",
      "\n",
      "Varianz \t\t11.238095238095239\n",
      "Standardabweichung  \t3.3523268393901033\n",
      "Interquartilsabstand \t2\n",
      "Spannweite \t\t10\n"
     ]
    }
   ],
   "source": [
    "values = [3, 2, 10, 7, 0, 3, 5]\n",
    "\n",
    "custom_quantil = 0.95\n",
    "\n",
    "\n",
    "show_basics(values, custom_quantil)"
   ]
  },
  {
   "cell_type": "markdown",
   "id": "c2bfec6b",
   "metadata": {},
   "source": [
    "### Häufigkeiten"
   ]
  },
  {
   "cell_type": "code",
   "execution_count": 11,
   "id": "48682e13",
   "metadata": {},
   "outputs": [
    {
     "name": "stdout",
     "output_type": "stream",
     "text": [
      "\n",
      " Wert  Absolute Häufigkeit  Relative Häufigkeit  Werte für Verteilungsfunktion\n",
      "    1                    2             0.181818                       0.181818\n",
      "    2                    2             0.181818                       0.363636\n",
      "    3                    4             0.363636                       0.727273\n",
      "    4                    2             0.181818                       0.909091\n",
      "    7                    1             0.090909                       1.000000\n"
     ]
    },
    {
     "data": {
      "image/png": "[encoded data removed]",
      "text/plain": [
       "<Figure size 432x288 with 1 Axes>"
      ]
     },
     "metadata": {
      "needs_background": "light"
     },
     "output_type": "display_data"
    },
    {
     "data": {
      "image/png": "[encoded data removed]",
      "text/plain": [
       "<Figure size 432x288 with 1 Axes>"
      ]
     },
     "metadata": {
      "needs_background": "light"
     },
     "output_type": "display_data"
    }
   ],
   "source": [
    "data = [1, 1, 2, 2, 3, 3, 3, 3, 4, 4, 7]\n",
    "\n",
    "\n",
    "haeufigkeit_diskret(data)"
   ]
  },
  {
   "cell_type": "markdown",
   "id": "9148a579",
   "metadata": {},
   "source": [
    "## Multivariate Statistik"
   ]
  },
  {
   "cell_type": "markdown",
   "id": "f46af061",
   "metadata": {},
   "source": [
    "Lineare Korrelation"
   ]
  },
  {
   "cell_type": "code",
   "execution_count": 63,
   "id": "43746563",
   "metadata": {},
   "outputs": [
    {
     "name": "stdout",
     "output_type": "stream",
     "text": [
      "Korrelationskoeffizient: 0.5675650156246663\n"
     ]
    },
    {
     "data": {
      "image/png": "[encoded data removed]",
      "text/plain": [
       "<Figure size 432x288 with 1 Axes>"
      ]
     },
     "metadata": {
      "needs_background": "light"
     },
     "output_type": "display_data"
    },
    {
     "name": "stdout",
     "output_type": "stream",
     "text": [
      "Regressionsgerade: f(x) = kx + d = 0.23146186440677968x + 5.149894067796609\n",
      "Bestimmtheitsmaß: R^2 = 0.32213004696102787 \n"
     ]
    },
    {
     "data": {
      "image/png": "[encoded data removed]",
      "text/plain": [
       "<Figure size 432x288 with 1 Axes>"
      ]
     },
     "metadata": {
      "needs_background": "light"
     },
     "output_type": "display_data"
    }
   ],
   "source": [
    "# Listen mit Werten \n",
    "b = ()\n",
    "a = ()\n",
    "\n",
    "korr_scatter(b,z)"
   ]
  },
  {
   "cell_type": "markdown",
   "id": "275b6257",
   "metadata": {},
   "source": [
    "## Diskrete Wahrscheinlichkeiten"
   ]
  },
  {
   "cell_type": "markdown",
   "id": "3aa80a00",
   "metadata": {},
   "source": [
    "### Kombinatorik"
   ]
  },
  {
   "cell_type": "markdown",
   "id": "14d843ee",
   "metadata": {},
   "source": [
    "+ Permutation ohne Wiederholung: \"p\" => hängt nur von n ab\n",
    "+ Variation ohne Wiederholung: \"vo\"\n",
    "+ Variation mit Wiederholung: \"vm\"\n",
    "+ Kombination ohne Wiederholung: \"ko\"\n",
    "+ Kombination mit Wiederholung: \"km\""
   ]
  },
  {
   "cell_type": "code",
   "execution_count": 83,
   "id": "b351b316",
   "metadata": {},
   "outputs": [
    {
     "name": "stdout",
     "output_type": "stream",
     "text": [
      "Kombination ohne Wiederholung special.binom(n,k) 13983816.0\n"
     ]
    }
   ],
   "source": [
    "#Gesamtmenge\n",
    "n = 49\n",
    "\n",
    "#Objekte die gezogen werden\n",
    "k = 6\n",
    "type = \"ko\"\n",
    "\n",
    "combinatorics(n,k,type)"
   ]
  },
  {
   "cell_type": "markdown",
   "id": "735b3d98",
   "metadata": {},
   "source": [
    "### diskrete Zufallsverteilungen"
   ]
  },
  {
   "cell_type": "markdown",
   "id": "fb3b069f",
   "metadata": {},
   "source": [
    "Bernoulli -Verteilung\n",
    "\n",
    "    Mit Welcher Wahrscheinlichkeit tritt ein Erfolg bei einem Versuch ein?\n",
    "    X ~ Ber(p)\n",
    "    \n",
    "    p = Erfolgswahrscheinlichkeit\n",
    "\n",
    "Binomialverteilung\n",
    "    \n",
    "    Mit welcher Wahrscheinlichkeit treten k Erfolge in n Versuchen ein.\n",
    "    X ~ Bin(n,p)\n",
    "    \n",
    "    type = \"bin\"\n",
    "    n: Anzahl Versuche\n",
    "    k: Anzahl Erfolge\n",
    "    p: Erfolgswahrscheinlichkeit eines Versuchs\n",
    "\n",
    "Geometrische Verteilung\n",
    "\n",
    "    Wartezeit bis zum ersten Erfolg\n",
    "    X ~ geom(p)\n",
    "\n",
    "    type = \"geom\"\n",
    "    n: Anzahl Versuche\n",
    "    p: Erfolgswahrscheinlichkeit eines Versuchs\n",
    "\n",
    "Poissonverteilung\n",
    "\n",
    "    Anzahl der Vorkommnisse in einem (Zeit) Intervall\n",
    "    X ~ Po(lambda)\n",
    "\n",
    "    type = \"po\"\n",
    "    lam: Auftrittsrate (lambda)\n",
    "    k: Anzahl der Ankünfte\n",
    "\n",
    "Method:\n",
    "\n",
    "    P(X = 3): pmf\n",
    "    P(X <= 3):cdf Achtung: kleiner GLEICH\n",
    "    P(X > 3): sf\n"
   ]
  },
  {
   "cell_type": "code",
   "execution_count": 184,
   "id": "c408f1a4",
   "metadata": {},
   "outputs": [
    {
     "name": "stdout",
     "output_type": "stream",
     "text": [
      "\n",
      "Beschreibung \tFormel \t\t\tErgebnis\n",
      "----------------------------------------------------------\n",
      "Binomial\n",
      "falsche Methode\n",
      "Erwartungswert \tn*p \t\t\t5.0 \n",
      "Varianz \tbinom.var((10, 0.5)): \t2.5\n",
      "Standardabweichung \t1.5811388300841898\n"
     ]
    }
   ],
   "source": [
    "type = \"bin\"\n",
    "method = \"pdf\"\n",
    "n = 10\n",
    "k = 3\n",
    "p = 0.5\n",
    "lam = 0.5\n",
    "\n",
    "\n",
    "diskret(n,k,p,lam,type,method)"
   ]
  },
  {
   "cell_type": "markdown",
   "id": "9b81c71b",
   "metadata": {},
   "source": [
    "## Kontinuierliche Wahrscheinlichkeiten"
   ]
  },
  {
   "cell_type": "markdown",
   "id": "4084dc28",
   "metadata": {},
   "source": [
    "### stetige Zufallsverteilungen"
   ]
  },
  {
   "cell_type": "markdown",
   "id": "80296369",
   "metadata": {},
   "source": [
    "Gleichverteilung\n",
    "\n",
    "    X ~ U(a, b)\n",
    "    type : \"gv\"\n",
    "    a = minimaler Wert\n",
    "    b = maximaler Wert\n",
    "    c = gesuchter Wert  \n",
    "\n",
    "Exponentialverteilung\n",
    "    \n",
    "    X ~ exp(lam)\n",
    "    type = \"exp\"\n",
    "    c = gesuchter Wert\n",
    "    lam = Ankunftsrate\n",
    "\n",
    "    Lambda gegeben\n",
    "\n",
    "Normalverteilung\n",
    "\n",
    "    X ~ N(my, sigma)\n",
    "    type : \"norm\"\n",
    "    my = Erwartungswert\n",
    "    sigma = Standardabweichung\n",
    "    c = Gesuchter Wert\n",
    "\n",
    "\n",
    "METHOD\n",
    "\n",
    "    P(X <= 3) = cdf\n",
    "    P(X > 3) = sf\n",
    "    x(quantil) = ppf Für Normalverteilung?"
   ]
  },
  {
   "cell_type": "code",
   "execution_count": 185,
   "id": "13524ebd",
   "metadata": {},
   "outputs": [
    {
     "name": "stdout",
     "output_type": "stream",
     "text": [
      "\n",
      "Beschreibung \t\tErgebnis\n",
      "--------------------------------------------------------------------\n",
      "Normalverteilung\n",
      "P(X < 20) \t\t0.9999999999987201\n",
      "Erwartungswert \t\t13 \n",
      "Varianz \t\t1\n",
      "Standardabweichung \t1.0\n"
     ]
    }
   ],
   "source": [
    "type = \"norm\"\n",
    "method = \"cdf\"\n",
    "\n",
    "a = 0\n",
    "b = 10\n",
    "c = 20\n",
    "\n",
    "lam = 32\n",
    "\n",
    "my = 13\n",
    "sigma = 1\n",
    "\n",
    "\n",
    "stetig(c, a, b, my, sigma, lam, method, type)"
   ]
  },
  {
   "cell_type": "markdown",
   "id": "e1ff5074",
   "metadata": {},
   "source": [
    "# Hilfsprogramme"
   ]
  },
  {
   "cell_type": "code",
   "execution_count": 110,
   "id": "e5a7bd80",
   "metadata": {},
   "outputs": [],
   "source": [
    "from xml.sax.handler import property_interning_dict\n",
    "import numpy as np\n",
    "import pandas as pd\n",
    "from scipy import stats, special\n",
    "from matplotlib import pyplot as plt\n",
    "from scipy.stats import geom\n",
    "from scipy.stats import bernoulli\n",
    "from scipy.stats import binom\n",
    "from scipy.stats import poisson\n",
    "from scipy.stats import uniform, expon, norm\n",
    "import math"
   ]
  },
  {
   "cell_type": "code",
   "execution_count": 167,
   "id": "707b4f3a",
   "metadata": {},
   "outputs": [],
   "source": [
    "def show_basics(values, custom_quantil):\n",
    "    \"\"\"\n",
    "        Prints basic statistical values\n",
    "        :param values: List with numbers\n",
    "        :param custom_quantil: calculate the quatile for a custom percentage\n",
    "        :returns: None\n",
    "    \"\"\"\n",
    "    values.sort()\n",
    "    \n",
    "    print(\"\")\n",
    "    print(f\"WERT \\t\\t\\tERGEBNIS\")\n",
    "    print(\"________________________________________________________________________________________________________\")\n",
    "    print(f\"Max \\t\\t\\t{max(values)}\")\n",
    "    print(f\"Min \\t\\t\\t{min(values)}\")\n",
    "    modalwert = stats.mode(values)\n",
    "    print(f\"Modalwert \\t\\t{modalwert.mode} ({modalwert.count}-mal)\\t\\t// auf mehrere Modalwerte aufpassen\")\n",
    "    print(f\"Arithmetische Mittel \\t{np.mean(values)}\")\n",
    "    print(f\"Median \\t\\t\\t{np.median(values)}\\n\")\n",
    "    x25 = np.quantile(values, 0.25, method=\"averaged_inverted_cdf\")\n",
    "    x50 = np.quantile(values, 0.5, method=\"averaged_inverted_cdf\")\n",
    "    x75 = np.quantile(values, 0.75, method=\"averaged_inverted_cdf\")\n",
    "    xcustom = np.quantile(values, custom_quantil, method=\"averaged_inverted_cdf\")\n",
    "    print(f\"25% Quartil \\t\\t{x25}\")\n",
    "    print(f\"50% Quartil \\t\\t{x50}\")\n",
    "    print(f\"75% Quartil \\t\\t{x75}\")\n",
    "    print(f\"{int(custom_quantil*100)}% Quantil \\t\\t{xcustom}\\n\")\n",
    "    print(f\"Varianz \\t\\t{np.var(values, ddof=1)}\")\n",
    "    print(f\"Standardabweichung  \\t{np.std(values, ddof = 1)}\")\n",
    "    print(f\"Interquartilsabstand \\t{stats.iqr(values, interpolation='nearest')}\")\n",
    "    print(f\"Spannweite \\t\\t{max(values) - min(values)}\")\n"
   ]
  },
  {
   "cell_type": "code",
   "execution_count": 5,
   "id": "71c95f01",
   "metadata": {},
   "outputs": [],
   "source": [
    "def haeufigkeit_diskret(data):\n",
    "    \"\"\"\n",
    "    Berechnet und zeichnet absolute und relative Häufigkeiten\n",
    "    :param data: Liste mit Werten\n",
    "    \"\"\"\n",
    "\n",
    "    df = pd.DataFrame(data).value_counts().rename_axis(\"Wert\").reset_index(name = \"Absolute Häufigkeit\")\n",
    "\n",
    "    df[\"Relative Häufigkeit\"] = df[\"Absolute Häufigkeit\"]/len(data)\n",
    "    df = df.sort_values(by= \"Wert\")\n",
    "    df[\"Werte für Verteilungsfunktion\"] = df[\"Relative Häufigkeit\"].cumsum()\n",
    "    print(\"\")\n",
    "    print(df.to_string(index = False))\n",
    "\n",
    "\n",
    "    plot1 = plt.figure(1)\n",
    "    plt.title(\"Absolute Häufigkeiten\")\n",
    "    plt.xlabel(\"Werte\")\n",
    "    plt.ylabel(\"Häufigkeit\")\n",
    "    plt.bar(df[\"Wert\"], df[\"Absolute Häufigkeit\"])\n",
    "\n",
    "    plot2 = plt.figure(2)\n",
    "    plt.title(\"Empirische Verteilungsfunktion\")\n",
    "    plt.xlabel(\"Werte\")\n",
    "    plt.ylabel(\"Kumulierte Häufigkeit\")\n",
    "    plt.hist(data, df.shape[0]-1, cumulative=True, histtype=\"step\", density=True,)\n",
    "\n",
    "\n",
    "    plt.show\n"
   ]
  },
  {
   "cell_type": "code",
   "execution_count": 6,
   "id": "bf118cdb",
   "metadata": {},
   "outputs": [],
   "source": [
    "def korr_scatter(a,b):\n",
    "    \"\"\"\n",
    "        Rechnet Korrelationskoeffizient und zeichnet scatterplot\n",
    "        :param a: liste 1\n",
    "        :param b: liste 2\n",
    "    \"\"\"\n",
    "    print(f\"Korrelationskoeffizient: {np.corrcoef(a,b)[0][1]}\")\n",
    "    \n",
    "    plt.scatter(a,b)\n",
    "    plt.show()\n",
    "    \n",
    "    \n",
    "    gradient, intercept, r_value, p_value, std_err = stats.linregress(a,b)\n",
    "    mn=np.min(a)\n",
    "    mx=np.max(a)\n",
    "    a1=np.linspace(mn,mx,500)\n",
    "    b1=gradient*a1+intercept\n",
    "    print(f\"Regressionsgerade: f(x) = kx + d = {gradient}x + {intercept}\")\n",
    "    print(f\"Bestimmtheitsmaß: R^2 = {r_value**2} \")\n",
    "    #print(f\"gradient: {gradient}, intercept: {intercept}, r_value: {r_value}, p_value: {p_value}, std_err: {std_err}\")\n",
    "    \n",
    "    plt.plot(a,b,'ob')\n",
    "    plt.plot(a1,b1,'-r')\n",
    "    plt.show()\n"
   ]
  },
  {
   "cell_type": "code",
   "execution_count": 17,
   "id": "8c4c52d8",
   "metadata": {},
   "outputs": [],
   "source": [
    "def combinatorics(n, k, type):\n",
    "    if type == \"p\":\n",
    "        print(f\"Permutation ohne Wiederholung: n! {math.factorial(n)}\")\n",
    "    elif type == \"vo\":\n",
    "        print(f\"Variation ohne Wiederholung: n!/(((n-k)!) {math.factorial(n)/math.factorial(n-k)}\")\n",
    "    elif type == \"vm\":\n",
    "        print(f\"Variation mit Wiederholung n^k {math.pow(n,k)}\")\n",
    "    elif type == \"ko\":\n",
    "        print(f\"Kombination ohne Wiederholung special.binom(n,k) {special.binom(n, k)}\")\n",
    "    elif type == \"km\":\n",
    "        print(f\"Kombination mit Wiederholung special.binom(n+k-1,k) {special.binom(n+k-1, k)}\")\n",
    "    else:\n",
    "        print(\"falscher Typ\")\n"
   ]
  },
  {
   "cell_type": "code",
   "execution_count": 175,
   "id": "e5132688",
   "metadata": {},
   "outputs": [],
   "source": [
    "def diskret(n, k, p, lam, type, method):\n",
    "\n",
    "    print(\"\\nBeschreibung \\tFormel \\t\\t\\tErgebnis\")\n",
    "    print(\"----------------------------------------------------------\")\n",
    "\n",
    "    if type == \"geom\":\n",
    "        print(\"Geometrisch\")\n",
    "        if method == \"pmf\":\n",
    "            print(f\"P(X = {n}) \\tgeom.pmf{n,p} \\t{geom.pmf(n,p)}\")\n",
    "        elif method == \"cdf\":\n",
    "            print(f\"P(X <= {n}) \\tgeom.cdf{n,p} \\t{geom.cdf(n,p)}\")\n",
    "        elif method == \"sf\":\n",
    "            print(f\"P(X > {n}) \\tgeom.sf{n,p} \\t{geom.sf(n,p)}\")\n",
    "        elif method == \"ppf\":\n",
    "            print(f\"x{k} \\tgeom.ppf{k,p} \\t\\t\\t{geom.ppf(k, p)}\")\n",
    "        else:\n",
    "            print(\"falsche Methode\")\n",
    "        \n",
    "        print(f\"Erwartungswert \\t1/p \\t\\t\\t{1/p} \")\n",
    "       \n",
    "        print(f\"Varianz \\tgeom.var({p}): \\t\\t{geom.var(p)}\")\n",
    "        \n",
    "        print(f\"Standardabweichung \\tgeom.std({p}): \\t{geom.std(p)}\")\n",
    "\n",
    "\n",
    "    elif type == \"bin\":\n",
    "        print(\"Binomial\")\n",
    "        if method == \"pmf\":\n",
    "            print(f\"P(X = {k}) \\tbinom.pmf{k,n,p} \\t{binom.pmf(k,n,p)}\")\n",
    "        elif method == \"cdf\":\n",
    "            print(f\"P(X <= {k}) \\tbinom.cdf{k,n,p} \\t{binom.cdf(k,n,p)}\")\n",
    "        elif method == \"sf\":\n",
    "            print(f\"P(X > {k}) \\tbinom.sf{k,n,p} \\t{binom.sf(k,n,p)}\")\n",
    "        elif method == \"ppf\":\n",
    "            print(f\"x{k} \\tbinom.ppf{k, n, p} \\t\\t\\t{binom.ppf(k, n, p)}\")\n",
    "        else:\n",
    "            print(\"falsche Methode\")\n",
    "        \n",
    "        print(f\"Erwartungswert \\tn*p \\t\\t\\t{n*p} \")\n",
    "       \n",
    "        print(f\"Varianz \\tbinom.var({n,p}): \\t{binom.var(n,p)}\")\n",
    "        \n",
    "        print(f\"Standardabweichung \\t{binom.std(n,p)}\")\n",
    "\n",
    "\n",
    "    elif type == \"po\":\n",
    "        print(\"Poisson\")\n",
    "        if method == \"pmf\":\n",
    "            print(f\"P(X = {k}) \\tpoisson.pmf{k,lam} \\t{poisson.pmf(k,lam)}\")\n",
    "        elif method == \"cdf\":\n",
    "            print(f\"P(X <= {k}) \\tpoisson.cdf{k,lam} \\t{poisson.cdf(k,lam)}\")\n",
    "        elif method == \"sf\":\n",
    "            print(f\"P(X > {k}) \\tpoisson.sf{k,lam} \\t{poisson.sf(k,lam)}\")\n",
    "        elif method == \"ppf\":\n",
    "            print(f\"x{k} \\tpoisson.ppf{k, lam} \\t\\t\\t{poisson.ppf(k, lam)}\")\n",
    "        else:\n",
    "            print(\"falsche Methode\")\n",
    "        \n",
    "        print(f\"Erwartungswert \\tlambda \\t\\t\\t{lam} \")\n",
    "       \n",
    "        print(f\"Varianz \\tlambda \\t\\t\\t{lam}\")\n",
    "        \n",
    "        print(f\"Standardabweichung \\tsqrt(lambda) \\t{np.sqrt(lam)}\")\n",
    "\n",
    "    else:\n",
    "        print(\"falscher Typ\")"
   ]
  },
  {
   "cell_type": "code",
   "execution_count": 136,
   "id": "878c57db",
   "metadata": {},
   "outputs": [],
   "source": [
    "def stetig(c, a, b, my, sigma, lam, method, type):\n",
    "    print(\"\\nBeschreibung \\t\\tErgebnis\")\n",
    "    print(\"--------------------------------------------------------------------\")\n",
    "\n",
    "    if type == \"gv\":\n",
    "        print(\"Gleichverteilung\")\n",
    "        if method == \"cdf\":\n",
    "            print(f\"P(X <= {c}) \\t\\t{uniform.cdf(c, a, b)}\") #a,b,c / c,b,a | b,c,a n|a,c,b | b,a,c\n",
    "        elif method == \"sf\":\n",
    "            print(f\"P(X > {c}) \\t\\t{uniform.sf(c, a, b)}\")\n",
    "        elif method == \"ppf\":\n",
    "            print(f\"x{c} \\t\\t\\t{uniform.ppf(c, a, b)}\")\n",
    "        else:\n",
    "            print(\"falsche methode\")\n",
    "        \n",
    "        print(f\"Erwartungswert \\t\\t{(a+b)/2} \")\n",
    "       \n",
    "        print(f\"Varianz \\t\\t{((b-a)**2)/12}\")\n",
    "        \n",
    "        print(f\"Standardabweichung \\t{np.sqrt(((b-a)**2)/12)}\")\n",
    "\n",
    "    elif type == \"exp\":\n",
    "        print(\"Exponentialverteilung\")\n",
    "        if method == \"cdf\":\n",
    "            print(f\"P(X < {c}) \\t\\t{expon.cdf(c,scale = 1/lam)}\")\n",
    "        elif method == \"sf\":\n",
    "            print(f\"P(X > {c}) \\t\\t{expon.sf(c,scale = 1/lam)}\")\n",
    "        elif method == \"ppf\":\n",
    "            print(f\"x{c} \\t\\t\\t{expon.ppf(c, scale = 1/lam)}\")\n",
    "        else:\n",
    "            print(\"falsche methode\")\n",
    "        \n",
    "        print(f\"Erwartungswert \\t\\t{1/lam} \")\n",
    "       \n",
    "        print(f\"Varianz \\t\\t{1/lam**2}\")\n",
    "        \n",
    "        print(f\"Standardabweichung \\t{np.sqrt(1/lam**2)}\")\n",
    "\n",
    "    elif type == \"norm\":\n",
    "        print(\"Normalverteilung\")\n",
    "        if method == \"cdf\":\n",
    "            print(f\"P(X < {c}) \\t\\t{norm.cdf(c, my,sigma)}\")\n",
    "        elif method == \"sf\":\n",
    "            print(f\"P(X > {c}) \\t\\t{norm.sf(c, my,sigma)}\")\n",
    "        elif method == \"ppf\":\n",
    "            print(f\"x{c} \\t\\t\\t{norm.ppf(c, my,sigma)}\")\n",
    "        else:\n",
    "            print(\"falsche methode\")\n",
    "        \n",
    "        print(f\"Erwartungswert \\t\\t{my} \")\n",
    "       \n",
    "        print(f\"Varianz \\t\\t{sigma**2}\")\n",
    "        \n",
    "        print(f\"Standardabweichung \\t{np.sqrt(sigma**2)}\")\n",
    "    \n",
    "    else:\n",
    "        print(\"falscher Typ\")"
   ]
  }
 ],
 "metadata": {
  "kernelspec": {
   "display_name": "Python 3 (ipykernel)",
   "language": "python",
   "name": "python3"
  },
  "language_info": {
   "codemirror_mode": {
    "name": "ipython",
    "version": 3
   },
   "file_extension": ".py",
   "mimetype": "text/x-python",
   "name": "python",
   "nbconvert_exporter": "python",
   "pygments_lexer": "ipython3",
   "version": "3.10.5"
  }
 },
 "nbformat": 4,
 "nbformat_minor": 5
}
