{
 "cells": [
  {
   "cell_type": "markdown",
   "id": "cbcdc85d",
   "metadata": {},
   "source": [
    "# Stochastik-Skript"
   ]
  },
  {
   "cell_type": "markdown",
   "id": "58551aa2",
   "metadata": {},
   "source": [
    "## beschreibende Statistik"
   ]
  },
  {
   "cell_type": "markdown",
   "id": "4ea6d644",
   "metadata": {},
   "source": [
    "einige einfache Statistische Werte"
   ]
  },
  {
   "cell_type": "code",
   "execution_count": 8,
   "id": "ee17b2b7",
   "metadata": {},
   "outputs": [
    {
     "name": "stdout",
     "output_type": "stream",
     "text": [
      "\n",
      "WERT \t\t\tERGEBNIS\n",
      "________________________________________________________________________________________________________\n",
      "Max \t\t\t7\n",
      "Min \t\t\t1\n",
      "Modalwert \t\t[3] ([4]-mal)\t\t// auf mehrere Modalwerte aufpassen\n",
      "Arithmetische Mittel \t3.0\n",
      "Median \t\t\t3.0\n",
      "\n",
      "25% Quartil \t\t2.0\n",
      "50% Quartil \t\t3.0\n",
      "75% Quartil \t\t4.0\n",
      "90% Quantil \t\t4.0\n",
      "\n",
      "Varianz \t\t2.8\n",
      "Standardabweichung  \t1.6733200530681511\n",
      "Interquartilsabstand \t2\n",
      "Spannweite \t\t6\n"
     ]
    }
   ],
   "source": [
    "values = [1, 1, 2, 2, 3, 3, 3, 3, 4, 4, 7]\n",
    "\n",
    "custom_quantil = 0.9\n",
    "\n",
    "\n",
    "show_basics(values, custom_quantil)"
   ]
  },
  {
   "cell_type": "markdown",
   "id": "9e23efbb",
   "metadata": {},
   "source": [
    "### Häufigkeiten"
   ]
  },
  {
   "cell_type": "code",
   "execution_count": 16,
   "id": "be1dd056",
   "metadata": {},
   "outputs": [
    {
     "name": "stdout",
     "output_type": "stream",
     "text": [
      "\n",
      " Wert  Absolute Häufigkeit  Relative Häufigkeit  Werte für Verteilungsfunktion\n",
      "    1                    2             0.181818                       0.181818\n",
      "    2                    2             0.181818                       0.363636\n",
      "    3                    4             0.363636                       0.727273\n",
      "    4                    2             0.181818                       0.909091\n",
      "    7                    1             0.090909                       1.000000\n"
     ]
    },
    {
     "data": {
      "image/png": "[encoded data removed]",
      "text/plain": [
       "<Figure size 432x288 with 1 Axes>"
      ]
     },
     "metadata": {
      "needs_background": "light"
     },
     "output_type": "display_data"
    },
    {
     "data": {
      "image/png": "[encoded data removed]",
      "text/plain": [
       "<Figure size 432x288 with 1 Axes>"
      ]
     },
     "metadata": {
      "needs_background": "light"
     },
     "output_type": "display_data"
    }
   ],
   "source": [
    "data = [1, 1, 2, 2, 3, 3, 3, 3, 4, 4, 7]\n",
    "\n",
    "\n",
    "haeufigkeit_diskret(data)"
   ]
  },
  {
   "cell_type": "markdown",
   "id": "e74cff4d",
   "metadata": {},
   "source": [
    "## Multivariate Statistik"
   ]
  },
  {
   "cell_type": "markdown",
   "id": "cf277a43",
   "metadata": {},
   "source": [
    "Lineare Korrelation"
   ]
  },
  {
   "cell_type": "code",
   "execution_count": 22,
   "id": "67e7044f",
   "metadata": {},
   "outputs": [
    {
     "name": "stdout",
     "output_type": "stream",
     "text": [
      "Korrelationskoeffizient np.corrcoef(a,b) -0.2945339609470107\n"
     ]
    },
    {
     "data": {
      "image/png": "[encoded data removed]",
      "text/plain": [
       "<Figure size 432x288 with 1 Axes>"
      ]
     },
     "metadata": {
      "needs_background": "light"
     },
     "output_type": "display_data"
    }
   ],
   "source": [
    "a = (163, 165, 166, 169, 170, \n",
    "171\n",
    "171\n",
    "173\n",
    "174\n",
    "175\n",
    "177\n",
    "177\n",
    "179\n",
    "180\n",
    "185)\n",
    "b = (59, 62, 65, 69, 65, 69, 76, 73, 75, 73, 80, 71, 82, 84, 85)\n",
    "\n",
    "korr_scatter(a,b)"
   ]
  },
  {
   "cell_type": "markdown",
   "id": "88f86636",
   "metadata": {},
   "source": []
  },
  {
   "cell_type": "markdown",
   "id": "e1ff5074",
   "metadata": {},
   "source": [
    "# Hilfsprogramme"
   ]
  },
  {
   "cell_type": "code",
   "execution_count": 2,
   "id": "e5a7bd80",
   "metadata": {},
   "outputs": [],
   "source": [
    "from xml.sax.handler import property_interning_dict\n",
    "import numpy as np\n",
    "import pandas as pd\n",
    "from scipy import stats, special\n",
    "from matplotlib import pyplot as plt\n",
    "from scipy.stats import geom\n",
    "from scipy.stats import bernoulli\n",
    "from scipy.stats import binom\n",
    "from scipy.stats import poisson\n",
    "from scipy.stats import uniform, expon, norm\n",
    "import math"
   ]
  },
  {
   "cell_type": "code",
   "execution_count": 18,
   "id": "707b4f3a",
   "metadata": {},
   "outputs": [],
   "source": [
    "def show_basics(values, custom_quantil):\n",
    "    \"\"\"\n",
    "        Prints basic statistical values\n",
    "        :param values: List with numbers\n",
    "        :param custom_quantil: calculate the quatile for a custom percentage\n",
    "        :returns: None\n",
    "    \"\"\"\n",
    "    values.sort()\n",
    "    \n",
    "    print(\"\")\n",
    "    print(f\"WERT \\t\\t\\tERGEBNIS\")\n",
    "    print(\"________________________________________________________________________________________________________\")\n",
    "    print(f\"Max \\t\\t\\t{max(values)}\")\n",
    "    print(f\"Min \\t\\t\\t{min(values)}\")\n",
    "    modalwert = stats.mode(values)\n",
    "    print(f\"Modalwert \\t\\t{modalwert.mode} ({modalwert.count}-mal)\\t\\t// auf mehrere Modalwerte aufpassen\")\n",
    "    print(f\"Arithmetische Mittel \\t{np.mean(values)}\")\n",
    "    print(f\"Median \\t\\t\\t{np.median(values)}\\n\")\n",
    "    x25 = np.quantile(values, 0.25, method=\"averaged_inverted_cdf\")\n",
    "    x50 = np.quantile(values, 0.5, method=\"averaged_inverted_cdf\")\n",
    "    x75 = np.quantile(values, 0.75, method=\"averaged_inverted_cdf\")\n",
    "    xcustom = np.quantile(values, custom_quantil, method=\"averaged_inverted_cdf\")\n",
    "    print(f\"25% Quartil \\t\\t{x25}\")\n",
    "    print(f\"50% Quartil \\t\\t{x50}\")\n",
    "    print(f\"75% Quartil \\t\\t{x75}\")\n",
    "    print(f\"{int(custom_quantil*100)}% Quantil \\t\\t{xcustom}\\n\")\n",
    "    print(f\"Varianz \\t\\t{np.var(values, ddof=1)}\")\n",
    "    print(f\"Standardabweichung  \\t{np.std(values, ddof = 1)}\")\n",
    "    print(f\"Interquartilsabstand \\t{stats.iqr(values, interpolation='nearest')}\")\n",
    "    print(f\"Spannweite \\t\\t{max(values) - min(values)}\")\n"
   ]
  },
  {
   "cell_type": "code",
   "execution_count": 19,
   "id": "b0277841",
   "metadata": {},
   "outputs": [],
   "source": [
    "def haeufigkeit_diskret(data):\n",
    "    \"\"\"\n",
    "    Berechnet und zeichnet absolute und relative Häufigkeiten\n",
    "    :param data: Liste mit Werten\n",
    "    \"\"\"\n",
    "\n",
    "    df = pd.DataFrame(data).value_counts().rename_axis(\"Wert\").reset_index(name = \"Absolute Häufigkeit\")\n",
    "\n",
    "    df[\"Relative Häufigkeit\"] = df[\"Absolute Häufigkeit\"]/len(data)\n",
    "    df = df.sort_values(by= \"Wert\")\n",
    "    df[\"Werte für Verteilungsfunktion\"] = df[\"Relative Häufigkeit\"].cumsum()\n",
    "    print(\"\")\n",
    "    print(df.to_string(index = False))\n",
    "\n",
    "\n",
    "    plot1 = plt.figure(1)\n",
    "    plt.title(\"Absolute Häufigkeiten\")\n",
    "    plt.xlabel(\"Werte\")\n",
    "    plt.ylabel(\"Häufigkeit\")\n",
    "    plt.bar(df[\"Wert\"], df[\"Absolute Häufigkeit\"])\n",
    "\n",
    "    plot2 = plt.figure(2)\n",
    "    plt.title(\"Empirische Verteilungsfunktion\")\n",
    "    plt.xlabel(\"Werte\")\n",
    "    plt.ylabel(\"Kumulierte Häufigkeit\")\n",
    "    plt.hist(data, df.shape[0]-1, cumulative=True, histtype=\"step\", density=True,)\n",
    "\n",
    "\n",
    "    plt.show\n"
   ]
  },
  {
   "cell_type": "code",
   "execution_count": 20,
   "id": "81bc409e",
   "metadata": {},
   "outputs": [],
   "source": [
    "def korr_scatter(a,b):\n",
    "    \"\"\"\n",
    "        Rechnet Korrelationskoeffizient und zeichnet scatterplot\n",
    "        :param a: liste 1\n",
    "        :param b: liste 2\n",
    "    \"\"\"\n",
    "    print(f\"Korrelationskoeffizient np.corrcoef(a,b) {np.corrcoef(a,b)[0][1]}\")\n",
    "    plt.scatter(a,b)\n",
    "    plt.show()\n"
   ]
  }
 ],
 "metadata": {
  "kernelspec": {
   "display_name": "Python 3 (ipykernel)",
   "language": "python",
   "name": "python3"
  },
  "language_info": {
   "codemirror_mode": {
    "name": "ipython",
    "version": 3
   },
   "file_extension": ".py",
   "mimetype": "text/x-python",
   "name": "python",
   "nbconvert_exporter": "python",
   "pygments_lexer": "ipython3",
   "version": "3.10.5"
  }
 },
 "nbformat": 4,
 "nbformat_minor": 5
}
